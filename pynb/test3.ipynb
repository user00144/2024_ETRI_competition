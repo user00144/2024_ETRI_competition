{
 "cells": [
  {
   "cell_type": "code",
   "execution_count": 1,
   "id": "9bcadd02-ea77-4e7b-95eb-dde26be6d1fd",
   "metadata": {
    "execution": {
     "iopub.execute_input": "2024-06-22T04:58:59.049568Z",
     "iopub.status.busy": "2024-06-22T04:58:59.048974Z",
     "iopub.status.idle": "2024-06-22T04:58:59.929268Z",
     "shell.execute_reply": "2024-06-22T04:58:59.928337Z",
     "shell.execute_reply.started": "2024-06-22T04:58:59.049521Z"
    }
   },
   "outputs": [
    {
     "ename": "NameError",
     "evalue": "name 'model' is not defined",
     "output_type": "error",
     "traceback": [
      "\u001b[0;31m---------------------------------------------------------------------------\u001b[0m",
      "\u001b[0;31mNameError\u001b[0m                                 Traceback (most recent call last)",
      "Cell \u001b[0;32mIn[1], line 27\u001b[0m\n\u001b[1;32m     25\u001b[0m epochs \u001b[38;5;241m=\u001b[39m \u001b[38;5;241m100\u001b[39m\n\u001b[1;32m     26\u001b[0m cir \u001b[38;5;241m=\u001b[39m nn\u001b[38;5;241m.\u001b[39mCrossEntropyLoss()\n\u001b[0;32m---> 27\u001b[0m optimizer \u001b[38;5;241m=\u001b[39m torch\u001b[38;5;241m.\u001b[39moptim\u001b[38;5;241m.\u001b[39mAdam(\u001b[43mmodel\u001b[49m\u001b[38;5;241m.\u001b[39mparameters())\n\u001b[1;32m     29\u001b[0m \u001b[38;5;28;01mdef\u001b[39;00m \u001b[38;5;21macc_fn\u001b[39m(y_pred, y_true):\n\u001b[1;32m     30\u001b[0m     accuracy \u001b[38;5;241m=\u001b[39m torch\u001b[38;5;241m.\u001b[39meq(y_pred, y_true)\u001b[38;5;241m.\u001b[39msum()\u001b[38;5;241m.\u001b[39mitem()\u001b[38;5;241m/\u001b[39m\u001b[38;5;28mlen\u001b[39m(y_pred)\n",
      "\u001b[0;31mNameError\u001b[0m: name 'model' is not defined"
     ]
    }
   ],
   "source": [
    "from models.models import Q_Model, S_Model\n",
    "from datas.commondataset import ETRI_Dataset\n",
    "from torch.utils.data import DataLoader\n",
    "import torch.nn as nn\n",
    "import torch\n",
    "import os\n",
    "import pandas as pd\n",
    "from tqdm import tqdm\n",
    "\n",
    "DATA_PATH = '/workspace/jupyter_workspace/SHARED_FILES/docker_shared/'\n",
    "\n",
    "val_path = os.path.join(DATA_PATH, 'val_dataset')\n",
    "df_mLight = pd.read_parquet(os.path.join(val_path, 'ch2024_val__m_light.parquet.gzip'))\n",
    "df_wHr = pd.read_parquet(os.path.join(val_path, 'ch2024_val__w_heart_rate.parquet.gzip'))\n",
    "df_wLight = pd.read_parquet(os.path.join(val_path, 'ch2024_val__w_light.parquet.gzip'))\n",
    "\n",
    "label_path = os.path.join(DATA_PATH, 'val_label.csv')\n",
    "\n",
    "\n",
    "train_dataset = ETRI_Dataset(label_path, df_mLight, df_wHr, df_wLight, 's', 'noise')\n",
    "train_dataloader = DataLoader(train_dataset, batch_size = 1, shuffle = False, num_workers = 4)\n",
    "\n",
    "model = S_Model()\n",
    "\n",
    "epochs = 100\n",
    "cir = nn.CrossEntropyLoss()\n",
    "optimizer = torch.optim.Adam(model.parameters())\n",
    "\n",
    "def acc_fn(y_pred, y_true):\n",
    "    accuracy = torch.eq(y_pred, y_true).sum().item()/len(y_pred)\n",
    "    return accuracy\n",
    "\n",
    "\n",
    "model = model.to('cuda')\n",
    "\n",
    "best_loss = 1\n",
    "\n",
    "for epoch in range(epochs) :\n",
    "    epoch_loss = 0\n",
    "    epoch_acc = 0\n",
    "    \n",
    "    model = model.train()\n",
    "    for i, batch in enumerate(tqdm(train_dataloader)) :\n",
    "        mLight, wHr, wLight, labels = batch\n",
    "        mLight, wHr, wLight = mLight.to('cuda'), wHr.to('cuda'), wLight.to('cuda')\n",
    "        #print(wHr)\n",
    "        #print(wLight)\n",
    "        prediction = model(mLight, wHr, wLight)\n",
    "        #prediction = torch.softmax(prediction, dim=1)\n",
    "        loss = cir(prediction, labels[0][0].to('cuda'))\n",
    "        print(prediction.argmax(dim=1))\n",
    "        acc = acc_fn(prediction.argmax(dim=1), labels[0][0].to('cuda'))\n",
    "        epoch_loss += loss\n",
    "        epoch_acc += acc\n",
    "        \n",
    "        optimizer.zero_grad()\n",
    "        loss.backward()\n",
    "\n",
    "        optimizer.step()\n",
    "    \n",
    "    epoch_loss = epoch_loss / len(train_dataloader)\n",
    "    epoch_acc = epoch_acc / len(train_dataloader)\n",
    "    if best_loss > epoch_loss :\n",
    "        print('save best model in epoch')\n",
    "        torch.save(model.state_dict(), './best.pt') \n",
    "        best_loss = epoch_loss\n",
    "    print(f\"EPOCH {epoch} - Loss : {epoch_loss} , Acc : {epoch_acc}\")\n",
    "\n"
   ]
  },
  {
   "cell_type": "code",
   "execution_count": null,
   "id": "ffe39d4e-5c2b-40bd-a3cf-41fe254ec351",
   "metadata": {},
   "outputs": [],
   "source": []
  }
 ],
 "metadata": {
  "kernelspec": {
   "display_name": "Python 3 (ipykernel)",
   "language": "python",
   "name": "python3"
  },
  "language_info": {
   "codemirror_mode": {
    "name": "ipython",
    "version": 3
   },
   "file_extension": ".py",
   "mimetype": "text/x-python",
   "name": "python",
   "nbconvert_exporter": "python",
   "pygments_lexer": "ipython3",
   "version": "3.10.12"
  }
 },
 "nbformat": 4,
 "nbformat_minor": 5
}
